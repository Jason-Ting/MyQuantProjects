{
 "cells": [
  {
   "cell_type": "code",
   "execution_count": 1,
   "id": "7b46a955",
   "metadata": {},
   "outputs": [],
   "source": [
    "import pandas as pd \n",
    "import numpy as np \n",
    "import matplotlib.pyplot as plt \n",
    "from scipy.optimize import minimize\n",
    "import yfinance as yfin\n",
    "from statsmodels.tsa.regime_switching.markov_autoregression import MarkovAutoregression"
   ]
  },
  {
   "cell_type": "code",
   "execution_count": 2,
   "id": "fda84b3b",
   "metadata": {},
   "outputs": [
    {
     "name": "stderr",
     "output_type": "stream",
     "text": [
      "[*********************100%%**********************]  1 of 1 completed\n"
     ]
    },
    {
     "data": {
      "text/plain": [
       "Date\n",
       "1999-01-25    0.104764\n",
       "1999-01-26   -0.077594\n",
       "1999-01-27   -0.003110\n",
       "1999-01-28   -0.003144\n",
       "1999-01-29   -0.047019\n",
       "Name: Adj Close, dtype: float64"
      ]
     },
     "execution_count": 2,
     "metadata": {},
     "output_type": "execute_result"
    }
   ],
   "source": [
    "nvda_df = yfin.download('NVDA',start = '1990-01-01', end = '2024-07-01')['Adj Close'].pct_change().dropna()\n",
    "nvda_df.head()"
   ]
  },
  {
   "cell_type": "code",
   "execution_count": 11,
   "id": "fa496b15",
   "metadata": {
    "scrolled": true
   },
   "outputs": [
    {
     "data": {
      "text/html": [
       "<table class=\"simpletable\">\n",
       "<caption>Markov Switching Model Results</caption>\n",
       "<tr>\n",
       "  <th>Dep. Variable:</th>             <td>y</td>          <th>  No. Observations:  </th>    <td>6398</td>   \n",
       "</tr>\n",
       "<tr>\n",
       "  <th>Model:</th>           <td>MarkovAutoregression</td> <th>  Log Likelihood     </th>  <td>11976.735</td>\n",
       "</tr>\n",
       "<tr>\n",
       "  <th>Date:</th>              <td>Sat, 27 Jul 2024</td>   <th>  AIC                </th> <td>-23939.470</td>\n",
       "</tr>\n",
       "<tr>\n",
       "  <th>Time:</th>                  <td>20:40:36</td>       <th>  BIC                </th> <td>-23892.124</td>\n",
       "</tr>\n",
       "<tr>\n",
       "  <th>Sample:</th>                    <td>0</td>          <th>  HQIC               </th> <td>-23923.081</td>\n",
       "</tr>\n",
       "<tr>\n",
       "  <th></th>                        <td> - 6398</td>       <th>                     </th>      <td> </td>    \n",
       "</tr>\n",
       "<tr>\n",
       "  <th>Covariance Type:</th>        <td>approx</td>        <th>                     </th>      <td> </td>    \n",
       "</tr>\n",
       "</table>\n",
       "<table class=\"simpletable\">\n",
       "<caption>Regime 0 parameters</caption>\n",
       "<tr>\n",
       "    <td></td>       <th>coef</th>     <th>std err</th>      <th>z</th>      <th>P>|z|</th>  <th>[0.025</th>    <th>0.975]</th>  \n",
       "</tr>\n",
       "<tr>\n",
       "  <th>const</th> <td>    0.0044</td> <td>    0.001</td> <td>    4.050</td> <td> 0.000</td> <td>    0.002</td> <td>    0.007</td>\n",
       "</tr>\n",
       "<tr>\n",
       "  <th>ar.L1</th> <td>   -0.3736</td> <td>    0.050</td> <td>   -7.453</td> <td> 0.000</td> <td>   -0.472</td> <td>   -0.275</td>\n",
       "</tr>\n",
       "</table>\n",
       "<table class=\"simpletable\">\n",
       "<caption>Regime 1 parameters</caption>\n",
       "<tr>\n",
       "    <td></td>       <th>coef</th>     <th>std err</th>      <th>z</th>      <th>P>|z|</th>  <th>[0.025</th>    <th>0.975]</th>  \n",
       "</tr>\n",
       "<tr>\n",
       "  <th>const</th> <td>    0.0001</td> <td>    0.001</td> <td>    0.147</td> <td> 0.883</td> <td>   -0.002</td> <td>    0.002</td>\n",
       "</tr>\n",
       "<tr>\n",
       "  <th>ar.L1</th> <td>    0.2924</td> <td>    0.042</td> <td>    6.951</td> <td> 0.000</td> <td>    0.210</td> <td>    0.375</td>\n",
       "</tr>\n",
       "</table>\n",
       "<table class=\"simpletable\">\n",
       "<caption>Non-switching parameters</caption>\n",
       "<tr>\n",
       "     <td></td>       <th>coef</th>     <th>std err</th>      <th>z</th>      <th>P>|z|</th>  <th>[0.025</th>    <th>0.975]</th>  \n",
       "</tr>\n",
       "<tr>\n",
       "  <th>sigma2</th> <td>    0.0013</td> <td> 2.47e-05</td> <td>   51.569</td> <td> 0.000</td> <td>    0.001</td> <td>    0.001</td>\n",
       "</tr>\n",
       "</table>\n",
       "<table class=\"simpletable\">\n",
       "<caption>Regime transition parameters</caption>\n",
       "<tr>\n",
       "     <td></td>        <th>coef</th>     <th>std err</th>      <th>z</th>      <th>P>|z|</th>  <th>[0.025</th>    <th>0.975]</th>  \n",
       "</tr>\n",
       "<tr>\n",
       "  <th>p[0->0]</th> <td>    0.3502</td> <td>    0.080</td> <td>    4.379</td> <td> 0.000</td> <td>    0.193</td> <td>    0.507</td>\n",
       "</tr>\n",
       "<tr>\n",
       "  <th>p[1->0]</th> <td>    0.4998</td> <td>    0.088</td> <td>    5.704</td> <td> 0.000</td> <td>    0.328</td> <td>    0.672</td>\n",
       "</tr>\n",
       "</table><br/><br/>Warnings:<br/>[1] Covariance matrix calculated using numerical (complex-step) differentiation."
      ],
      "text/latex": [
       "\\begin{center}\n",
       "\\begin{tabular}{lclc}\n",
       "\\toprule\n",
       "\\textbf{Dep. Variable:}   &          y           & \\textbf{  No. Observations:  } &    6398     \\\\\n",
       "\\textbf{Model:}           & MarkovAutoregression & \\textbf{  Log Likelihood     } & 11976.735   \\\\\n",
       "\\textbf{Date:}            &   Sat, 27 Jul 2024   & \\textbf{  AIC                } & -23939.470  \\\\\n",
       "\\textbf{Time:}            &       20:40:36       & \\textbf{  BIC                } & -23892.124  \\\\\n",
       "\\textbf{Sample:}          &          0           & \\textbf{  HQIC               } & -23923.081  \\\\\n",
       "\\textbf{}                 &        - 6398        & \\textbf{                     } &             \\\\\n",
       "\\textbf{Covariance Type:} &        approx        & \\textbf{                     } &             \\\\\n",
       "\\bottomrule\n",
       "\\end{tabular}\n",
       "\\begin{tabular}{lcccccc}\n",
       "               & \\textbf{coef} & \\textbf{std err} & \\textbf{z} & \\textbf{P$> |$z$|$} & \\textbf{[0.025} & \\textbf{0.975]}  \\\\\n",
       "\\midrule\n",
       "\\textbf{const} &       0.0044  &        0.001     &     4.050  &         0.000        &        0.002    &        0.007     \\\\\n",
       "\\textbf{ar.L1} &      -0.3736  &        0.050     &    -7.453  &         0.000        &       -0.472    &       -0.275     \\\\\n",
       "               & \\textbf{coef} & \\textbf{std err} & \\textbf{z} & \\textbf{P$> |$z$|$} & \\textbf{[0.025} & \\textbf{0.975]}  \\\\\n",
       "\\midrule\n",
       "\\textbf{const} &       0.0001  &        0.001     &     0.147  &         0.883        &       -0.002    &        0.002     \\\\\n",
       "\\textbf{ar.L1} &       0.2924  &        0.042     &     6.951  &         0.000        &        0.210    &        0.375     \\\\\n",
       "                & \\textbf{coef} & \\textbf{std err} & \\textbf{z} & \\textbf{P$> |$z$|$} & \\textbf{[0.025} & \\textbf{0.975]}  \\\\\n",
       "\\midrule\n",
       "\\textbf{sigma2} &       0.0013  &     2.47e-05     &    51.569  &         0.000        &        0.001    &        0.001     \\\\\n",
       "                   & \\textbf{coef} & \\textbf{std err} & \\textbf{z} & \\textbf{P$> |$z$|$} & \\textbf{[0.025} & \\textbf{0.975]}  \\\\\n",
       "\\midrule\n",
       "\\textbf{p[0-$>$0]} &       0.3502  &        0.080     &     4.379  &         0.000        &        0.193    &        0.507     \\\\\n",
       "\\textbf{p[1-$>$0]} &       0.4998  &        0.088     &     5.704  &         0.000        &        0.328    &        0.672     \\\\\n",
       "\\bottomrule\n",
       "\\end{tabular}\n",
       "%\\caption{Markov Switching Model Results}\n",
       "\\end{center}\n",
       "\n",
       "Warnings: \\newline\n",
       " [1] Covariance matrix calculated using numerical (complex-step) differentiation."
      ],
      "text/plain": [
       "<class 'statsmodels.iolib.summary.Summary'>\n",
       "\"\"\"\n",
       "                         Markov Switching Model Results                         \n",
       "================================================================================\n",
       "Dep. Variable:                        y   No. Observations:                 6398\n",
       "Model:             MarkovAutoregression   Log Likelihood               11976.735\n",
       "Date:                  Sat, 27 Jul 2024   AIC                         -23939.470\n",
       "Time:                          20:40:36   BIC                         -23892.124\n",
       "Sample:                               0   HQIC                        -23923.081\n",
       "                                 - 6398                                         \n",
       "Covariance Type:                 approx                                         \n",
       "                             Regime 0 parameters                              \n",
       "==============================================================================\n",
       "                 coef    std err          z      P>|z|      [0.025      0.975]\n",
       "------------------------------------------------------------------------------\n",
       "const          0.0044      0.001      4.050      0.000       0.002       0.007\n",
       "ar.L1         -0.3736      0.050     -7.453      0.000      -0.472      -0.275\n",
       "                             Regime 1 parameters                              \n",
       "==============================================================================\n",
       "                 coef    std err          z      P>|z|      [0.025      0.975]\n",
       "------------------------------------------------------------------------------\n",
       "const          0.0001      0.001      0.147      0.883      -0.002       0.002\n",
       "ar.L1          0.2924      0.042      6.951      0.000       0.210       0.375\n",
       "                           Non-switching parameters                           \n",
       "==============================================================================\n",
       "                 coef    std err          z      P>|z|      [0.025      0.975]\n",
       "------------------------------------------------------------------------------\n",
       "sigma2         0.0013   2.47e-05     51.569      0.000       0.001       0.001\n",
       "                         Regime transition parameters                         \n",
       "==============================================================================\n",
       "                 coef    std err          z      P>|z|      [0.025      0.975]\n",
       "------------------------------------------------------------------------------\n",
       "p[0->0]        0.3502      0.080      4.379      0.000       0.193       0.507\n",
       "p[1->0]        0.4998      0.088      5.704      0.000       0.328       0.672\n",
       "==============================================================================\n",
       "\n",
       "Warnings:\n",
       "[1] Covariance matrix calculated using numerical (complex-step) differentiation.\n",
       "\"\"\""
      ]
     },
     "execution_count": 11,
     "metadata": {},
     "output_type": "execute_result"
    }
   ],
   "source": [
    "#Markov AR(1)\n",
    "model = MarkovAutoregression(nvda_df.values, k_regimes=2, order=1, switching_ar=True)\n",
    "result = model.fit()\n",
    "\n",
    "result.summary()"
   ]
  },
  {
   "cell_type": "markdown",
   "id": "407c88cd",
   "metadata": {},
   "source": [
    "### Regime 0: (Mean Reverting Period)\n",
    "The intercept and AR term are both signficant with the inclusion that the AR has a negative coefficien. This indicates that in this regime, the stock returns follow inversely from prior time period returns, demonstrating a period of high mean reversion. \n",
    "\n",
    "### Regime 1: (Momentum Period)\n",
    "In this regime, only the AR Term is signficant with a positive coefficient, this would indicate a state of momentum or overall persistence of returns from a prior period.\n",
    "\n",
    "### Non-Switching Variance:\n",
    "Variance of the error term stays constant irregardless of state.\n",
    "\n",
    "### Probabilities of State Switch:\n",
    "We can form the stochastic matrix of the probabilities using the coefficients provided. The conditional probability of regime staying in state 0 given it is in state 0 is around 35.02%. While the switch to state 1 given state 0 is 49.98%. We can form the transition matrix using these figures:\n"
   ]
  },
  {
   "cell_type": "code",
   "execution_count": 26,
   "id": "187299ff",
   "metadata": {},
   "outputs": [
    {
     "name": "stdout",
     "output_type": "stream",
     "text": [
      "[[0.3502 0.6498]\n",
      " [0.4998 0.5002]]\n"
     ]
    }
   ],
   "source": [
    "transition_matrix = np.array([[.3502, 1-.3502],[.4998, 1-.4998]])\n",
    "print(transition_matrix)"
   ]
  },
  {
   "cell_type": "code",
   "execution_count": null,
   "id": "3f5adc9b",
   "metadata": {},
   "outputs": [],
   "source": []
  }
 ],
 "metadata": {
  "kernelspec": {
   "display_name": "Python 3 (ipykernel)",
   "language": "python",
   "name": "python3"
  },
  "language_info": {
   "codemirror_mode": {
    "name": "ipython",
    "version": 3
   },
   "file_extension": ".py",
   "mimetype": "text/x-python",
   "name": "python",
   "nbconvert_exporter": "python",
   "pygments_lexer": "ipython3",
   "version": "3.11.5"
  }
 },
 "nbformat": 4,
 "nbformat_minor": 5
}
