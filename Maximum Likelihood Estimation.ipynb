{
 "cells": [
  {
   "cell_type": "markdown",
   "id": "030856de",
   "metadata": {},
   "source": [
    "## Maximum Likelihood Estimation (1st & 2nd Moments) "
   ]
  },
  {
   "cell_type": "code",
   "execution_count": 3,
   "id": "a54ba411",
   "metadata": {},
   "outputs": [],
   "source": [
    "import pandas as pd \n",
    "import numpy as np \n",
    "import matplotlib.pyplot as plt \n",
    "from scipy.optimize import minimize\n",
    "import yfinance as yfin"
   ]
  },
  {
   "cell_type": "code",
   "execution_count": 4,
   "id": "bfd76aaf",
   "metadata": {},
   "outputs": [
    {
     "name": "stderr",
     "output_type": "stream",
     "text": [
      "[*********************100%%**********************]  1 of 1 completed\n"
     ]
    },
    {
     "data": {
      "text/plain": [
       "Date\n",
       "1999-01-25    0.104764\n",
       "1999-01-26   -0.077594\n",
       "1999-01-27   -0.003110\n",
       "1999-01-28   -0.003144\n",
       "1999-01-29   -0.047019\n",
       "Name: Adj Close, dtype: float64"
      ]
     },
     "execution_count": 4,
     "metadata": {},
     "output_type": "execute_result"
    }
   ],
   "source": [
    "nvda_df = yfin.download('NVDA',start = '1990-01-01', end = '2024-07-01')['Adj Close'].pct_change().dropna()\n",
    "nvda_df.head()"
   ]
  },
  {
   "cell_type": "markdown",
   "id": "02b3d813",
   "metadata": {},
   "source": [
    "MLE: Finds the parameters of a function that are most likely to produce the observations seen, given an underlying probability distribution. It can be explained as fitting parameters to a probability distribution. By finding the combination of parameters that maximize the likelihood function, we can determine what the parameters should be given our observed data. This involves finding the critical point or when gradient = 0. \n",
    "\n",
    "PDF of Normal Distribution (Stock Returns) \n",
    "$$\n",
    "f(x \\mid \\mu, \\sigma) = \\frac{1}{\\sqrt{2\\pi\\sigma^2}} \\exp\\left( -\\frac{(x - \\mu)^2}{2\\sigma^2} \\right)\n",
    "$$\n",
    "\n",
    "Log Likelihood Function: (Summation represent the joint probability distribution) \n",
    "\n",
    "$$\n",
    "\\ell(\\mu, \\sigma \\mid x) = \\sum_{i=1}^{n} \\log \\left( \\frac{1}{\\sqrt{2\\pi\\sigma^2}} \\right) + \\sum_{i=1}^{n} \\log \\left( \\exp\\left( -\\frac{(x_i - \\mu)^2}{2\\sigma^2} \\right) \\right)\n",
    "$$\n",
    "\n",
    "Simplifying: \n",
    "$$\n",
    "-\\ell(\\mu, \\sigma \\mid x) = \\frac{n}{2} \\log (2\\pi\\sigma^2) - \\frac{1}{2\\sigma^2} \\sum_{i=1}^{n} (x_i - \\mu)^2\n",
    "$$\n",
    "\n",
    "Then find the critical points, derivate with respect to mu and set it equal to 0."
   ]
  },
  {
   "cell_type": "code",
   "execution_count": 62,
   "id": "4015ef06",
   "metadata": {},
   "outputs": [
    {
     "data": {
      "text/plain": [
       "  message: CONVERGENCE: REL_REDUCTION_OF_F_<=_FACTR*EPSMCH\n",
       "  success: True\n",
       "   status: 0\n",
       "      fun: -11868.288787324154\n",
       "        x: [ 1.977e-03  3.787e-02]\n",
       "      nit: 8\n",
       "      jac: [-3.871e+00 -3.378e-01]\n",
       "     nfev: 87\n",
       "     njev: 29\n",
       " hess_inv: <2x2 LbfgsInvHessProduct with dtype=float64>"
      ]
     },
     "metadata": {},
     "output_type": "display_data"
    }
   ],
   "source": [
    "def log_likelihood(parameters, dataset):\n",
    "    mu, sigma = parameters \n",
    "    n = len(dataset)\n",
    "    term1 = -n/2 * np.log(2*np.pi*sigma**2)\n",
    "    term2 = np.sum((dataset - mu)**2)/(2*sigma**2) \n",
    "    likelihood = term1 - term2 \n",
    "    return -likelihood\n",
    "\n",
    "init_guess = [.001,.001]\n",
    "result = minimize(log_likelihood, init_guess, args=(nvda_df.values), method='L-BFGS-B', bounds=[(None, None), (1e-6, None)])\n",
    "display(result)"
   ]
  },
  {
   "cell_type": "code",
   "execution_count": 66,
   "id": "f47c7444",
   "metadata": {},
   "outputs": [
    {
     "name": "stdout",
     "output_type": "stream",
     "text": [
      "MLE Sample Mean: 0.001976748909181311\n",
      "MLE Sigma: 0.037867972165235436\n"
     ]
    }
   ],
   "source": [
    "MLE_moment1 = result.x[0]\n",
    "MLE_moment2 = result.x[1]\n",
    "\n",
    "print(f'MLE Sample Mean: {MLE_moment1}')\n",
    "print(f'MLE Sigma: {MLE_moment2}')"
   ]
  },
  {
   "cell_type": "code",
   "execution_count": 65,
   "id": "cacfe340",
   "metadata": {},
   "outputs": [
    {
     "name": "stdout",
     "output_type": "stream",
     "text": [
      "Actual Sample Mean 0.0019776213749344573\n",
      "Actual Sample Sigma 0.03787097423598338\n"
     ]
    }
   ],
   "source": [
    "print(f'Actual Sample Mean {nvda_df.mean()}')\n",
    "print(f'Actual Sample Sigma {nvda_df.std()}')"
   ]
  }
 ],
 "metadata": {
  "kernelspec": {
   "display_name": "Python 3 (ipykernel)",
   "language": "python",
   "name": "python3"
  },
  "language_info": {
   "codemirror_mode": {
    "name": "ipython",
    "version": 3
   },
   "file_extension": ".py",
   "mimetype": "text/x-python",
   "name": "python",
   "nbconvert_exporter": "python",
   "pygments_lexer": "ipython3",
   "version": "3.11.5"
  }
 },
 "nbformat": 4,
 "nbformat_minor": 5
}
