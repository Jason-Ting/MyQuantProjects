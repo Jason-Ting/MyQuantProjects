{
 "cells": [
  {
   "cell_type": "markdown",
   "id": "e14481d4",
   "metadata": {},
   "source": [
    "## Portfolio Optimization "
   ]
  },
  {
   "cell_type": "code",
   "execution_count": 20,
   "id": "c4504f75",
   "metadata": {},
   "outputs": [],
   "source": [
    "import pandas as pd \n",
    "import numpy as np \n",
    "import matplotlib.pyplot as plt \n",
    "import yfinance as yf \n",
    "from scipy.optimize import minimize "
   ]
  },
  {
   "cell_type": "code",
   "execution_count": 110,
   "id": "216ae79b",
   "metadata": {},
   "outputs": [],
   "source": [
    "### Import File\n",
    "filepath = '/Users/jasonting/Downloads/Quant Port Data.xlsx'\n",
    "\n",
    "## Import Tickers\n",
    "qcom_df = pd.read_excel(filepath, 'QCOM')['Adj Close']\n",
    "intc_df = pd.read_excel(filepath, 'INTC')['Adj Close']\n",
    "lmt_df = pd.read_excel(filepath, 'LMT')['Adj Close']\n",
    "tsm_df = pd.read_excel(filepath, 'TSM')['Adj Close']\n",
    "bac_df = pd.read_excel(filepath, 'BAC')['Adj Close']\n",
    "rf = pd.read_excel(filepath, 'RF')['Adj Close']\n",
    "\n",
    "\n",
    "lc_df = [qcom_df, intc_df, lmt_df,tsm_df, bac_df]\n",
    "\n"
   ]
  },
  {
   "cell_type": "code",
   "execution_count": 64,
   "id": "124fb143",
   "metadata": {},
   "outputs": [
    {
     "name": "stdout",
     "output_type": "stream",
     "text": [
      "       QCOM      INTC       LMT       TSM       BAC\n",
      "1  0.009213 -0.011891 -0.000709  0.003927 -0.056068\n",
      "2  0.027985  0.045186  0.056094  0.012256  0.034963\n",
      "3  0.009581  0.003476 -0.014329 -0.025245  0.024029\n",
      "4  0.058207  0.027495  0.026332  0.070824  0.002853\n",
      "5  0.046067  0.008639  0.011632 -0.033317  0.031294\n"
     ]
    }
   ],
   "source": [
    "## Combine Data\n",
    "returns_matrix = pd.concat(lc_df,axis=1)\n",
    "column_names = ['QCOM', 'INTC', 'LMT', 'TSM', 'BAC']\n",
    "returns_matrix.columns = column_names\n",
    "returns_matrix = returns_matrix.pct_change(axis=0).dropna()\n",
    "\n",
    "print(returns_matrix.head())"
   ]
  },
  {
   "cell_type": "code",
   "execution_count": 97,
   "id": "811d8525",
   "metadata": {},
   "outputs": [
    {
     "name": "stdout",
     "output_type": "stream",
     "text": [
      "Variance-Covariance Matrix \n",
      "\n",
      "          QCOM      INTC       LMT       TSM       BAC\n",
      "QCOM  0.002585  0.001163  0.000460  0.001430  0.001031\n",
      "INTC  0.001163  0.002475  0.000539  0.000802  0.001004\n",
      "LMT   0.000460  0.000539  0.001292  0.000273  0.000675\n",
      "TSM   0.001430  0.000802  0.000273  0.002114  0.000704\n",
      "BAC   0.001031  0.001004  0.000675  0.000704  0.002328\n"
     ]
    }
   ],
   "source": [
    "## Generate Initial Weights & Var-Covariance Matrix\n",
    "initial_weights = w = np.array([1/len(returns_matrix.columns)] * len(returns_matrix.columns))\n",
    "covariance_matrix = returns_matrix.cov()\n",
    "print(f'Variance-Covariance Matrix \\n\\n{covariance_matrix}')"
   ]
  },
  {
   "cell_type": "code",
   "execution_count": 101,
   "id": "5cd45dee",
   "metadata": {},
   "outputs": [
    {
     "data": {
      "text/plain": [
       " message: Optimization terminated successfully\n",
       " success: True\n",
       "  status: 0\n",
       "     fun: 0.0008820285188901412\n",
       "       x: [ 1.432e-02  1.137e-01  5.131e-01  2.106e-01  1.483e-01]\n",
       "     nit: 6\n",
       "     jac: [ 1.719e-03  1.785e-03  1.777e-03  1.603e-03  1.937e-03]\n",
       "    nfev: 36\n",
       "    njev: 6"
      ]
     },
     "metadata": {},
     "output_type": "display_data"
    },
    {
     "data": {
      "text/plain": [
       "array([0.01431782, 0.11368714, 0.51308661, 0.21063551, 0.14827292])"
      ]
     },
     "execution_count": 101,
     "metadata": {},
     "output_type": "execute_result"
    }
   ],
   "source": [
    "## Optimziation (Minimum Variance Portfolio) SCIPY MINIMIZE\n",
    "def minimum_variance_portfolio(weights, cov_matrix):\n",
    "    return weights.T @ cov_matrix @ weights\n",
    "\n",
    "\n",
    "# Constraints\n",
    "constraints = ({'type': 'eq', 'fun': lambda weights: np.sum(weights) -1})\n",
    "\n",
    "# Bounds\n",
    "bounds = tuple((0, 1) for asset in range(len(returns_matrix.columns)))\n",
    "\n",
    "result = minimize(minimum_variance_portfolio, initial_weights, args=(covariance_matrix,), method='SLSQP', bounds=bounds, constraints=constraints)\n",
    "\n",
    "\n",
    "display(result)\n",
    "\n",
    "min_variance_weight = result.x\n"
   ]
  },
  {
   "cell_type": "code",
   "execution_count": 113,
   "id": "164867fd",
   "metadata": {},
   "outputs": [
    {
     "name": "stdout",
     "output_type": "stream",
     "text": [
      "Minimum Variance Portfolio Weights: [0.0124036  0.11061036 0.52167036 0.26499381 0.09032187]\n",
      "Gradient at this point: [0.00174539 0.00174539 0.00174539 0.00174539 0.00174539]\n",
      "Total Portfolio Weights: 1.0\n",
      "Min-Variance Return: 0.9116401964583345\n"
     ]
    }
   ],
   "source": [
    "## Optimziation (Minimum Variance Portfolio) Using Gradient Descent Iteration\n",
    "\n",
    "def calc_port_var(weight,matrix):\n",
    "    return np.dot(weight.T,np.dot(weight,covariance_matrix))\n",
    "\n",
    "def partial_deriv(weight, matrix):\n",
    "    return np.dot(matrix,weight) + np.dot(matrix,weight)\n",
    "\n",
    "def port_returns(weight,returns_matrix):\n",
    "    return np.dot(weights, returns_matrix)\n",
    "\n",
    "matrix = covariance_matrix\n",
    "\n",
    "iterations = 100000\n",
    "min_var = []\n",
    "for n in range(iterations):\n",
    "    #Gradient vector points in the direction of steepest ascent graphically, we wish to minimize our portfolio variance or find x point that corresponds to the minimum y point of our graph, \n",
    "\n",
    "    w = w - partial_deriv(w,matrix)  * .1 #Taken from gradient descent optimization (xold - [gradient(xold)*scalar value]) scalar value adds small increment of movement to x\n",
    "    excess_w = (1-w.sum())/len(w)\n",
    "    w = w + excess_w\n",
    "\n",
    "    #End condition, when iteration stops we want to take the final weights\n",
    "    if n == iterations-1:        \n",
    "        min_var.append(w)\n",
    "        print(f'Minimum Variance Portfolio Weights: {w}')\n",
    "        print(f'Gradient at this point: {partial_deriv(w,matrix)}')\n",
    "        print(f'Total Portfolio Weights: {w.sum()}')\n",
    "        \n",
    "              \n",
    "\n",
    "            \n",
    "return_min = np.dot(min_var[0],returns_matrix.dropna().T).sum()\n",
    "print(f'Min-Variance Return: {return_min}')\n",
    "\n",
    "\n"
   ]
  },
  {
   "cell_type": "code",
   "execution_count": 119,
   "id": "c3b7159e",
   "metadata": {},
   "outputs": [
    {
     "data": {
      "text/plain": [
       " message: Optimization terminated successfully\n",
       " success: True\n",
       "  status: 0\n",
       "     fun: 0.8623059445183392\n",
       "       x: [ 1.000e+00  1.943e-16  9.159e-16  0.000e+00  3.608e-16]\n",
       "     nit: 3\n",
       "     jac: [-9.834e-01 -3.943e-01 -2.003e-01 -6.152e-01 -4.016e-01]\n",
       "    nfev: 18\n",
       "    njev: 3"
      ]
     },
     "execution_count": 119,
     "metadata": {},
     "output_type": "execute_result"
    }
   ],
   "source": [
    "## Highest Sharpe Ratio\n",
    "def highest_sharpe(weights, returns, cov_matrix, risk_free_rate):\n",
    "    portfolio_return = np.sum(weights * returns)\n",
    "    portfolio_std_dev = np.sqrt(weights.T @ cov_matrix @ weights)\n",
    "    sharpe_ratio = (portfolio_return - risk_free_rate) / portfolio_std_dev\n",
    "    return -sharpe_ratio  # Minimize negative Sharpe ratio\n",
    "\n",
    "\n",
    "result = minimize(highest_sharpe, initial_weights, args=(returns_matrix.mean(), covariance_matrix, .05), method='SLSQP', bounds=bounds, constraints=constraints)\n",
    "\n",
    "result"
   ]
  },
  {
   "cell_type": "code",
   "execution_count": null,
   "id": "82f3394c",
   "metadata": {},
   "outputs": [],
   "source": []
  }
 ],
 "metadata": {
  "kernelspec": {
   "display_name": "Python 3 (ipykernel)",
   "language": "python",
   "name": "python3"
  },
  "language_info": {
   "codemirror_mode": {
    "name": "ipython",
    "version": 3
   },
   "file_extension": ".py",
   "mimetype": "text/x-python",
   "name": "python",
   "nbconvert_exporter": "python",
   "pygments_lexer": "ipython3",
   "version": "3.11.5"
  }
 },
 "nbformat": 4,
 "nbformat_minor": 5
}
