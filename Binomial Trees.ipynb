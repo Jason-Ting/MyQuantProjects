{
 "cells": [
  {
   "cell_type": "code",
   "execution_count": 16,
   "metadata": {
    "executionInfo": {
     "elapsed": 1432,
     "status": "ok",
     "timestamp": 1718726933366,
     "user": {
      "displayName": "Sunayan Acharya",
      "userId": "01843936080004746277"
     },
     "user_tz": 240
    },
    "id": "WxLMG3b2qBdf"
   },
   "outputs": [],
   "source": [
    "import numpy as np\n",
    "import scipy.stats as stats\n",
    "from matplotlib import pyplot as plt"
   ]
  },
  {
   "cell_type": "code",
   "execution_count": 31,
   "metadata": {
    "executionInfo": {
     "elapsed": 173,
     "status": "ok",
     "timestamp": 1718727203380,
     "user": {
      "displayName": "Sunayan Acharya",
      "userId": "01843936080004746277"
     },
     "user_tz": 240
    },
    "id": "TUM_fGqwqMBD"
   },
   "outputs": [],
   "source": [
    "# generate stock price at expiration\n",
    "def gen_S_T(S0, sigma, T, n):\n",
    "  dt = T / n\n",
    "  u = np.exp(sigma * np.sqrt(dt)); d = 1/u\n",
    "  S_T = np.zeros(n+1)\n",
    "  for i in range(n+1):\n",
    "    S_T[i] = S0 * (u**(n-i)) * (d**i)\n",
    "  return (u, d, S_T)"
   ]
  },
  {
   "cell_type": "code",
   "execution_count": 32,
   "metadata": {
    "colab": {
     "base_uri": "https://localhost:8080/"
    },
    "executionInfo": {
     "elapsed": 291,
     "status": "ok",
     "timestamp": 1718300265281,
     "user": {
      "displayName": "Sunayan Acharya",
      "userId": "01843936080004746277"
     },
     "user_tz": 240
    },
    "id": "W_Q2oO3WrGzP",
    "outputId": "a53aed9a-afd6-4dd2-fa2e-840c8c64bfa4"
   },
   "outputs": [
    {
     "data": {
      "text/plain": [
       "(1.1224009024456676,\n",
       " 0.8909472522884107,\n",
       " array([141.39824581, 112.24009024,  89.09472523,  70.72223522]))"
      ]
     },
     "execution_count": 32,
     "metadata": {},
     "output_type": "execute_result"
    }
   ],
   "source": [
    "S0 = 100; sigma = 0.20; T = 1; n = 3\n",
    "gen_S_T(S0, sigma, T, n)"
   ]
  },
  {
   "cell_type": "code",
   "execution_count": 33,
   "metadata": {
    "executionInfo": {
     "elapsed": 218,
     "status": "ok",
     "timestamp": 1718727206162,
     "user": {
      "displayName": "Sunayan Acharya",
      "userId": "01843936080004746277"
     },
     "user_tz": 240
    },
    "id": "Tbykb3f4rNKh"
   },
   "outputs": [],
   "source": [
    "def european_call(S0, K, rf, sigma, T, n):\n",
    "  dt = T / n\n",
    "  u, d, S_T = gen_S_T(S0, sigma, T, n)\n",
    "  q = (np.exp(rf*dt) - d) / (u - d)\n",
    "  C_T = np.clip(S_T - K, 0, None)\n",
    "  prob = stats.binom.pmf(np.arange(n, -1, -1), n, q)\n",
    "  C_0 = np.exp(-rf*T) * (prob * C_T).sum()\n",
    "  return C_0"
   ]
  },
  {
   "cell_type": "code",
   "execution_count": 34,
   "metadata": {
    "colab": {
     "base_uri": "https://localhost:8080/"
    },
    "executionInfo": {
     "elapsed": 280,
     "status": "ok",
     "timestamp": 1718300707907,
     "user": {
      "displayName": "Sunayan Acharya",
      "userId": "01843936080004746277"
     },
     "user_tz": 240
    },
    "id": "knc_krShsyjQ",
    "outputId": "6aaf7345-b090-4e1a-fd84-db527c24f614"
   },
   "outputs": [
    {
     "data": {
      "text/plain": [
       "10.073318591923652"
      ]
     },
     "execution_count": 34,
     "metadata": {},
     "output_type": "execute_result"
    }
   ],
   "source": [
    "S0 = 100; sigma = 0.20; T = 1; n = 2; K = 100; rf = 0.06\n",
    "european_call(S0, K, rf, sigma, T, n)"
   ]
  },
  {
   "cell_type": "code",
   "execution_count": 35,
   "metadata": {
    "executionInfo": {
     "elapsed": 181,
     "status": "ok",
     "timestamp": 1718727112623,
     "user": {
      "displayName": "Sunayan Acharya",
      "userId": "01843936080004746277"
     },
     "user_tz": 240
    },
    "id": "xKu5on9ktigr"
   },
   "outputs": [],
   "source": [
    "def bsm_call(S0, K, rf, sigma, T):\n",
    "  d1 = (np.log(S0/K) + (rf+1/2*(sigma**2)*T)) / (sigma * np.sqrt(T))\n",
    "  d2 = d1 - sigma * np.sqrt(T)\n",
    "  return S0 * stats.norm.cdf(d1) - K * np.exp(-rf * T) * stats.norm.cdf(d2)\n",
    "def bsm_put(S0, K, rf, sigma, T):\n",
    "  d1 = (np.log(S0/K) + (rf+1/2*(sigma**2)*T)) / (sigma * np.sqrt(T))\n",
    "  d2 = d1 - sigma * np.sqrt(T)\n",
    "  return - S0 * stats.norm.cdf(-d1) + K * np.exp(-rf * T) * stats.norm.cdf(-d2)"
   ]
  },
  {
   "cell_type": "code",
   "execution_count": 36,
   "metadata": {
    "colab": {
     "base_uri": "https://localhost:8080/"
    },
    "executionInfo": {
     "elapsed": 175,
     "status": "ok",
     "timestamp": 1718727149357,
     "user": {
      "displayName": "Sunayan Acharya",
      "userId": "01843936080004746277"
     },
     "user_tz": 240
    },
    "id": "Z4SrhaI4HnXC",
    "outputId": "a3169963-d97d-4ba9-aeaa-8bcb7b9df365"
   },
   "outputs": [
    {
     "data": {
      "text/plain": [
       "10.989549152625997"
      ]
     },
     "execution_count": 36,
     "metadata": {},
     "output_type": "execute_result"
    }
   ],
   "source": [
    "S0 = 100; sigma = 0.20; T = 1; K = 100; rf = 0.06\n",
    "bsm_call(S0, K, rf, sigma, T)"
   ]
  },
  {
   "cell_type": "code",
   "execution_count": 38,
   "metadata": {
    "colab": {
     "base_uri": "https://localhost:8080/",
     "height": 448
    },
    "executionInfo": {
     "elapsed": 381,
     "status": "ok",
     "timestamp": 1718727331503,
     "user": {
      "displayName": "Sunayan Acharya",
      "userId": "01843936080004746277"
     },
     "user_tz": 240
    },
    "id": "-WvNnPp-HteJ",
    "outputId": "33ba75ac-4299-49e2-f954-3f3b6da5dbac"
   },
   "outputs": [
    {
     "data": {
      "text/plain": [
       "<matplotlib.legend.Legend at 0x132762610>"
      ]
     },
     "execution_count": 38,
     "metadata": {},
     "output_type": "execute_result"
    },
    {
     "data": {
      "image/png": "[encoded data removed]",
      "text/plain": [
       "<Figure size 640x480 with 1 Axes>"
      ]
     },
     "metadata": {},
     "output_type": "display_data"
    }
   ],
   "source": [
    "N = 100; K = 1.10*S0\n",
    "c = np.zeros(N)\n",
    "for n in range(1, N+1):\n",
    "  c[n-1] = european_call(S0, K, rf, sigma, T, n)\n",
    "plt.plot(np.arange(1,N+1), c, label = 'binomial');plt.title('Binomial vs. Black Scholes Model Comparison');plt.xlabel('Time');plt.ylabel('Price')\n",
    "plt.axhline(y = bsm_call(S0, K, rf, sigma, T), label = 'bsm', color='red')\n",
    "plt.legend()"
   ]
  },
  {
   "cell_type": "markdown",
   "metadata": {
    "id": "5GvJvtFcM0yp"
   },
   "source": [
    "### American Put Option"
   ]
  },
  {
   "cell_type": "code",
   "execution_count": 25,
   "metadata": {
    "executionInfo": {
     "elapsed": 165,
     "status": "ok",
     "timestamp": 1718728656867,
     "user": {
      "displayName": "Sunayan Acharya",
      "userId": "01843936080004746277"
     },
     "user_tz": 240
    },
    "id": "CTjdC0uhIRG9"
   },
   "outputs": [],
   "source": [
    "# generate full stock price tree\n",
    "def gen_stock_tree(S0, sigma, T, n):\n",
    "  dt = T / n\n",
    "  u = np.exp(sigma*np.sqrt(dt)); d = 1/u\n",
    "  S = np.zeros((n+1, n+1))\n",
    "  S[0,0] = S0\n",
    "  for j in range(0, n):\n",
    "    S[:,j+1] = S[:,j] * u\n",
    "    S[j+1,j+1] = S[j,j] * d\n",
    "  return (u, d, S)"
   ]
  },
  {
   "cell_type": "code",
   "execution_count": 26,
   "metadata": {
    "colab": {
     "base_uri": "https://localhost:8080/"
    },
    "executionInfo": {
     "elapsed": 183,
     "status": "ok",
     "timestamp": 1718728729796,
     "user": {
      "displayName": "Sunayan Acharya",
      "userId": "01843936080004746277"
     },
     "user_tz": 240
    },
    "id": "Xz06l-PDNgZC",
    "outputId": "a8bf382f-a9e7-47b4-dd89-92aed79172ae"
   },
   "outputs": [
    {
     "data": {
      "text/plain": [
       "(1.1051709180756477,\n",
       " 0.9048374180359595,\n",
       " array([[100.        , 110.51709181, 122.14027582, 134.98588076,\n",
       "         149.18246976],\n",
       "        [  0.        ,  90.4837418 , 100.        , 110.51709181,\n",
       "         122.14027582],\n",
       "        [  0.        ,   0.        ,  81.87307531,  90.4837418 ,\n",
       "         100.        ],\n",
       "        [  0.        ,   0.        ,   0.        ,  74.08182207,\n",
       "          81.87307531],\n",
       "        [  0.        ,   0.        ,   0.        ,   0.        ,\n",
       "          67.0320046 ]]))"
      ]
     },
     "execution_count": 26,
     "metadata": {},
     "output_type": "execute_result"
    }
   ],
   "source": [
    "gen_stock_tree(S0, sigma, T, 4)"
   ]
  },
  {
   "cell_type": "code",
   "execution_count": 27,
   "metadata": {
    "executionInfo": {
     "elapsed": 250,
     "status": "ok",
     "timestamp": 1718729325730,
     "user": {
      "displayName": "Sunayan Acharya",
      "userId": "01843936080004746277"
     },
     "user_tz": 240
    },
    "id": "fYJ6smNjNnhF"
   },
   "outputs": [],
   "source": [
    "# American put tree\n",
    "def american_put(S0, K, rf, sigma, T, n):\n",
    "  u, d, S = gen_stock_tree(S0, sigma, T, n)\n",
    "  dt = T / n\n",
    "  q = (np.exp(rf*dt) - d) / (u - d)\n",
    "  P = np.zeros((n+1, n+1))\n",
    "  P[:, n] = np.clip(K - S[:,n], 0, None)\n",
    "  for j in range(n-1, -1, -1):\n",
    "    for i in range(j+1):\n",
    "      P[i,j] = max(np.exp(-rf*dt)*(q * P[i,j+1] + (1-q)*P[i+1,j+1]),\n",
    "                   K - S[i,j])\n",
    "  return P[0,0]"
   ]
  },
  {
   "cell_type": "code",
   "execution_count": 28,
   "metadata": {
    "colab": {
     "base_uri": "https://localhost:8080/"
    },
    "executionInfo": {
     "elapsed": 206,
     "status": "ok",
     "timestamp": 1718729340813,
     "user": {
      "displayName": "Sunayan Acharya",
      "userId": "01843936080004746277"
     },
     "user_tz": 240
    },
    "id": "ayHNanM5QDqQ",
    "outputId": "4c8a0dcd-b1e5-4d0d-ebe1-e908133e3382"
   },
   "outputs": [
    {
     "data": {
      "text/plain": [
       "11.417205016430339"
      ]
     },
     "execution_count": 28,
     "metadata": {},
     "output_type": "execute_result"
    }
   ],
   "source": [
    "american_put(S0, K, rf, sigma, T, 3)"
   ]
  },
  {
   "cell_type": "code",
   "execution_count": 30,
   "metadata": {
    "id": "D6fCc1kqQHWh"
   },
   "outputs": [
    {
     "name": "stdout",
     "output_type": "stream",
     "text": [
      "Call Values at Expiration: [ 0.          0.          0.          5.68492269 13.72481651 22.74880058]\n"
     ]
    },
    {
     "data": {
      "text/plain": [
       "Text(0, 0.5, 'Dollars')"
      ]
     },
     "execution_count": 30,
     "metadata": {},
     "output_type": "execute_result"
    },
    {
     "data": {
      "image/png": "[encoded data removed]",
      "text/plain": [
       "<Figure size 640x480 with 1 Axes>"
      ]
     },
     "metadata": {},
     "output_type": "display_data"
    }
   ],
   "source": [
    "#Given Values\n",
    "vol = .20\n",
    "s0 = 62\n",
    "t = 5/12\n",
    "strike = 60\n",
    "r = .10\n",
    "R = (1+r/12)\n",
    "\n",
    "#Calculate U, D, Q\n",
    "u = np.exp(vol*np.sqrt(1/12))\n",
    "d = 1/u\n",
    "q = (np.exp(r*(1/12)) - d) / (u-d) \n",
    "\n",
    "sUUUUU = s0 * u**5\n",
    "sUUUUD = s0 * u**4 * d\n",
    "sUUUDD = s0 * u ** 3 * d**2\n",
    "sUUDDD = s0 * u ** 2 * d **3\n",
    "sUDDDD = s0 * u * d ** 4\n",
    "sDDDDD = s0 * d ** 5\n",
    "\n",
    "array_last_vals = np.array([sDDDDD, sUDDDD, sUUDDD,sUUUDD,sUUUUD,sUUUUU])\n",
    "\n",
    "\n",
    "call_value = array_last_vals - strike #stock price - strike price\n",
    " \n",
    "#Set all negative values = 0 \n",
    "for i in range(len(call_value)):\n",
    "    if call_value[[i]] < 0:\n",
    "        call_value[i] = 0\n",
    "    \n",
    "print(f'Call Values at Expiration: {call_value}')\n",
    "\n",
    "\n",
    "#Call Values\n",
    "lc = []\n",
    "for i in range(1,len(call_value)):\n",
    "    lc.append((1/R) *(q*call_value[i] + (1-q)* call_value[i-1]))\n",
    "lc\n",
    "\n",
    "lc2 = []\n",
    "for i in range(1,len(lc)):\n",
    "    lc2.append(1/R *(q*lc[i] + (1-q)* lc[i-1]))\n",
    "lc2\n",
    "\n",
    "lc3 = []\n",
    "for i in range(1,len(lc2)):\n",
    "    lc3.append(1/R *(q*lc2[i] + (1-q)* lc2[i-1]))\n",
    "lc3\n",
    "\n",
    "\n",
    "lc4 = []\n",
    "for i in range(1,len(lc3)):\n",
    "    lc4.append(1/R *(q*lc3[i] + (1-q)* lc3[i-1]))\n",
    "lc4\n",
    "\n",
    "lc5 = []\n",
    "for i in range(1,len(lc4)):\n",
    "    lc5.append(1/R *(q*lc4[i] + (1-q)* lc4[i-1]))\n",
    "lc5\n",
    "\n",
    "x = [5,5,5,5,5]\n",
    "x2 = [4,4,4,4]\n",
    "x3 = [3,3,3]\n",
    "x4 = [2,2]\n",
    "x5 =[1]\n",
    "\n",
    "plt.scatter(x,lc, color='green')\n",
    "plt.scatter(x2,lc2, color='green')\n",
    "plt.scatter(x3,lc3,color='green')\n",
    "plt.scatter(x4,lc4,color='green')\n",
    "plt.scatter(x5,lc5,color='green');plt.title('Binomial Lattice - Call Option Values');plt.xlabel('Months');plt.ylabel('Dollars')\n"
   ]
  },
  {
   "cell_type": "code",
   "execution_count": null,
   "metadata": {},
   "outputs": [],
   "source": []
  }
 ],
 "metadata": {
  "colab": {
   "authorship_tag": "ABX9TyP9D+On/fglNQnfxQWhbabG",
   "provenance": []
  },
  "kernelspec": {
   "display_name": "Python 3 (ipykernel)",
   "language": "python",
   "name": "python3"
  },
  "language_info": {
   "codemirror_mode": {
    "name": "ipython",
    "version": 3
   },
   "file_extension": ".py",
   "mimetype": "text/x-python",
   "name": "python",
   "nbconvert_exporter": "python",
   "pygments_lexer": "ipython3",
   "version": "3.11.5"
  }
 },
 "nbformat": 4,
 "nbformat_minor": 1
}
